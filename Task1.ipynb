{
 "cells": [
  {
   "cell_type": "code",
   "execution_count": 203,
   "metadata": {
    "collapsed": true,
    "deletable": true,
    "editable": true
   },
   "outputs": [],
   "source": [
    "import pandas as pd\n",
    "import numpy as np\n",
    "from sklearn.feature_extraction.text import CountVectorizer\n",
    "from sklearn.feature_extraction.text import TfidfVectorizer\n",
    "from sklearn.linear_model import LogisticRegression\n",
    "from sklearn.naive_bayes import MultinomialNB\n",
    "from sklearn.model_selection import cross_val_score"
   ]
  },
  {
   "cell_type": "code",
   "execution_count": 204,
   "metadata": {
    "collapsed": true,
    "deletable": true,
    "editable": true
   },
   "outputs": [],
   "source": [
    "def hamConverter(value):\n",
    "    return 0 if value == \"ham\" else 1"
   ]
  },
  {
   "cell_type": "code",
   "execution_count": 205,
   "metadata": {
    "collapsed": true
   },
   "outputs": [],
   "source": [
    "def get_best_score(vectorizer, ngrams=(1, 1), verbose=True):\n",
    "    vectorizer = vectorizer(ngram_range=ngrams)\n",
    "    X = vectorizer.fit_transform(data.msg)\n",
    "    \n",
    "    best_res = -1\n",
    "    best_c = -1\n",
    "\n",
    "    for c in [0.01, 0.1, 0.5, 1, 5, 10, 100, 200, 500, 1000, 10000, 15000, 20000, 100000]:\n",
    "        cls = LogisticRegression(C=c)\n",
    "        res = cross_val_score(cls, X, data.is_spam, scoring=\"f1_macro\", cv=10)\n",
    "        if verbose:\n",
    "            print c, '\\t', np.mean(res), np.std(res)\n",
    "\n",
    "        if np.mean(res) > best_res:\n",
    "            best_c = c\n",
    "            best_res = np.mean(res)\n",
    "            \n",
    "    return best_res, best_c"
   ]
  },
  {
   "cell_type": "code",
   "execution_count": 206,
   "metadata": {
    "collapsed": false,
    "deletable": true,
    "editable": true
   },
   "outputs": [],
   "source": [
    "data = pd.read_csv(\"SMSSpamCollection.txt\", sep='\\t', header = None, names = [\"is_spam\", \"msg\"], converters={\"is_spam\": hamConverter})"
   ]
  },
  {
   "cell_type": "code",
   "execution_count": 207,
   "metadata": {
    "collapsed": false,
    "deletable": true,
    "editable": true
   },
   "outputs": [
    {
     "data": {
      "text/html": [
       "<div style=\"max-height:1000px;max-width:1500px;overflow:auto;\">\n",
       "<table border=\"1\" class=\"dataframe\">\n",
       "  <thead>\n",
       "    <tr style=\"text-align: right;\">\n",
       "      <th></th>\n",
       "      <th>is_spam</th>\n",
       "      <th>msg</th>\n",
       "    </tr>\n",
       "  </thead>\n",
       "  <tbody>\n",
       "    <tr>\n",
       "      <th>0</th>\n",
       "      <td> 0</td>\n",
       "      <td> Go until jurong point, crazy.. Available only ...</td>\n",
       "    </tr>\n",
       "    <tr>\n",
       "      <th>1</th>\n",
       "      <td> 0</td>\n",
       "      <td>                     Ok lar... Joking wif u oni...</td>\n",
       "    </tr>\n",
       "    <tr>\n",
       "      <th>2</th>\n",
       "      <td> 1</td>\n",
       "      <td> Free entry in 2 a wkly comp to win FA Cup fina...</td>\n",
       "    </tr>\n",
       "    <tr>\n",
       "      <th>3</th>\n",
       "      <td> 0</td>\n",
       "      <td> U dun say so early hor... U c already then say...</td>\n",
       "    </tr>\n",
       "    <tr>\n",
       "      <th>4</th>\n",
       "      <td> 0</td>\n",
       "      <td> Nah I don't think he goes to usf, he lives aro...</td>\n",
       "    </tr>\n",
       "  </tbody>\n",
       "</table>\n",
       "<p>5 rows × 2 columns</p>\n",
       "</div>"
      ],
      "text/plain": [
       "   is_spam                                                msg\n",
       "0        0  Go until jurong point, crazy.. Available only ...\n",
       "1        0                      Ok lar... Joking wif u oni...\n",
       "2        1  Free entry in 2 a wkly comp to win FA Cup fina...\n",
       "3        0  U dun say so early hor... U c already then say...\n",
       "4        0  Nah I don't think he goes to usf, he lives aro...\n",
       "\n",
       "[5 rows x 2 columns]"
      ]
     },
     "execution_count": 207,
     "metadata": {},
     "output_type": "execute_result"
    }
   ],
   "source": [
    "data.head()"
   ]
  },
  {
   "cell_type": "code",
   "execution_count": 208,
   "metadata": {
    "collapsed": false,
    "deletable": true,
    "editable": true
   },
   "outputs": [
    {
     "name": "stdout",
     "output_type": "stream",
     "text": [
      "0.01 \t0.878490605033 0.0278790215221\n",
      "0.1 \t0.945341388869 0.0127270570793\n",
      "0.5 \t0.958048828369 0.0114923541911\n",
      "1 \t0.961439883123 0.0111136136931\n",
      "5 \t0.965630631432 0.0100254597851\n",
      "10 \t0.964768692811 0.0105745573823\n",
      "100 \t0.965519045969 0.0104983807255\n",
      "200 \t0.96512703282 0.0106615483688\n",
      "500 \t0.965519154006 0.0104981363784\n",
      "1000 \t0.965900915279 0.0105019673784\n",
      "10000 \t0.965515354099 0.0108273920481\n",
      "15000 \t0.965916069386 0.0114287871959\n",
      "20000 \t0.965916069386 0.0114287871959\n",
      "100000 \t0.967613684947 0.0112335616015\n"
     ]
    }
   ],
   "source": [
    "ans1, c1 = get_best_score(CountVectorizer)"
   ]
  },
  {
   "cell_type": "code",
   "execution_count": 209,
   "metadata": {
    "collapsed": false
   },
   "outputs": [
    {
     "name": "stdout",
     "output_type": "stream",
     "text": [
      "Answer 1: \n",
      "0.967613684947\n"
     ]
    }
   ],
   "source": [
    "print \"Answer 1: \"\n",
    "print ans1"
   ]
  },
  {
   "cell_type": "code",
   "execution_count": null,
   "metadata": {
    "collapsed": false
   },
   "outputs": [
    {
     "name": "stdout",
     "output_type": "stream",
     "text": [
      "Answer 2: \n",
      "1 1 0 0 0\n"
     ]
    }
   ],
   "source": [
    "cls = LogisticRegression(C=c1).fit(X, data.is_spam)\n",
    "\n",
    "samples = [\"FreeMsg: Txt: CALL to No: 86888 & claim your reward of 3 hours talk time to use from your phone now! Subscribe6GB\",\n",
    "            \"FreeMsg: Txt: claim your reward of 3 hours talk time\",\n",
    "            \"Have you visited the last lecture on physics?\",\n",
    "            \"Have you visited the last lecture on physics? Just buy this book and you will have all materials! Only 99$\",\n",
    "            \"Only 99$\"]\n",
    "\n",
    "sample = vectorizer.transform(samples)\n",
    "res = cls.predict(sample)\n",
    "print \"Answer 2: \"\n",
    "print \" \".join([str(i) for i in res])\n",
    "# print cls.predict_proba(sample)"
   ]
  },
  {
   "cell_type": "code",
   "execution_count": null,
   "metadata": {
    "collapsed": false
   },
   "outputs": [],
   "source": [
    "scores1 = []\n",
    "\n",
    "scores1.append(get_best_score(CountVectorizer, (2, 2), False))\n",
    "scores1.append(get_best_score(CountVectorizer, (3, 3), False))\n",
    "scores1.append(get_best_score(CountVectorizer, (1, 3), False))"
   ]
  },
  {
   "cell_type": "code",
   "execution_count": null,
   "metadata": {
    "collapsed": false
   },
   "outputs": [],
   "source": [
    "print \"Answer 3: \"\n",
    "print \" \".join([\"{0:0.2f}\".format(i) for i, _ in scores1])"
   ]
  },
  {
   "cell_type": "code",
   "execution_count": null,
   "metadata": {
    "collapsed": false
   },
   "outputs": [],
   "source": [
    "scores2 = []\n",
    "cls = MultinomialNB().fit(X, data.is_spam)\n",
    "\n",
    "\n",
    "for i in [(2, 2), (3, 3), (1, 3)]:\n",
    "    vectorizer = CountVectorizer(ngram_range=i)\n",
    "    X = vectorizer.fit_transform(data.msg)\n",
    "    \n",
    "    res = cross_val_score(cls, X, data.is_spam, scoring=\"f1_macro\", cv=10)\n",
    "    \n",
    "    scores2.append(np.mean(res))"
   ]
  },
  {
   "cell_type": "code",
   "execution_count": null,
   "metadata": {
    "collapsed": false
   },
   "outputs": [],
   "source": [
    "print \"Answer 4: \"\n",
    "print \" \".join([\"{0:0.2f}\".format(i) for i in scores2])"
   ]
  },
  {
   "cell_type": "code",
   "execution_count": null,
   "metadata": {
    "collapsed": false,
    "deletable": true,
    "editable": true
   },
   "outputs": [],
   "source": [
    "ans2, _ = get_best_score(TfidfVectorizer)"
   ]
  },
  {
   "cell_type": "code",
   "execution_count": null,
   "metadata": {
    "collapsed": false
   },
   "outputs": [],
   "source": [
    "print \"Answer 5: \"\n",
    "print ans2"
   ]
  }
 ],
 "metadata": {
  "kernelspec": {
   "display_name": "Python 2",
   "language": "python",
   "name": "python2"
  },
  "language_info": {
   "codemirror_mode": {
    "name": "ipython",
    "version": 2
   },
   "file_extension": ".py",
   "mimetype": "text/x-python",
   "name": "python",
   "nbconvert_exporter": "python",
   "pygments_lexer": "ipython2",
   "version": "2.7.12"
  }
 },
 "nbformat": 4,
 "nbformat_minor": 2
}
