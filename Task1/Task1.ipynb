{
 "cells": [
  {
   "cell_type": "code",
   "execution_count": 1,
   "metadata": {
    "collapsed": true,
    "deletable": true,
    "editable": true
   },
   "outputs": [],
   "source": [
    "import pandas as pd\n",
    "import numpy as np\n",
    "from sklearn.feature_extraction.text import CountVectorizer\n",
    "from sklearn.feature_extraction.text import TfidfVectorizer\n",
    "from sklearn.linear_model import LogisticRegression\n",
    "from sklearn.naive_bayes import MultinomialNB\n",
    "from sklearn.model_selection import cross_val_score"
   ]
  },
  {
   "cell_type": "code",
   "execution_count": 2,
   "metadata": {
    "collapsed": true,
    "deletable": true,
    "editable": true
   },
   "outputs": [],
   "source": [
    "def hamConverter(value):\n",
    "    return 0 if value == \"ham\" else 1"
   ]
  },
  {
   "cell_type": "code",
   "execution_count": 3,
   "metadata": {
    "collapsed": true,
    "deletable": true,
    "editable": true
   },
   "outputs": [],
   "source": [
    "def get_best_score(vectorizer, ngrams=(1, 1), verbose=True):\n",
    "    vectorizer = vectorizer(ngram_range=ngrams)\n",
    "    X = vectorizer.fit_transform(data.msg)\n",
    "    \n",
    "    best_res = -1\n",
    "    best_c = -1\n",
    "\n",
    "    for c in [0.01, 0.1, 0.5, 1, 5, 10, 100, 200, 500, 1000, 10000, 15000, 20000, 100000]:\n",
    "        cls = LogisticRegression(C=c)\n",
    "        res = cross_val_score(cls, X, data.is_spam, scoring=\"f1\", cv=10)\n",
    "        if verbose:\n",
    "            print c, '\\t', np.mean(res), np.std(res)\n",
    "\n",
    "        if np.mean(res) > best_res:\n",
    "            best_c = c\n",
    "            best_res = np.mean(res)\n",
    "            \n",
    "    return best_res, best_c, X"
   ]
  },
  {
   "cell_type": "code",
   "execution_count": 4,
   "metadata": {
    "collapsed": false,
    "deletable": true,
    "editable": true
   },
   "outputs": [],
   "source": [
    "data = pd.read_csv(\"SMSSpamCollection.txt\", sep='\\t', header = None, names = [\"is_spam\", \"msg\"], converters={\"is_spam\": hamConverter})"
   ]
  },
  {
   "cell_type": "code",
   "execution_count": 5,
   "metadata": {
    "collapsed": false,
    "deletable": true,
    "editable": true
   },
   "outputs": [
    {
     "data": {
      "text/html": [
       "<div style=\"max-height:1000px;max-width:1500px;overflow:auto;\">\n",
       "<table border=\"1\" class=\"dataframe\">\n",
       "  <thead>\n",
       "    <tr style=\"text-align: right;\">\n",
       "      <th></th>\n",
       "      <th>is_spam</th>\n",
       "      <th>msg</th>\n",
       "    </tr>\n",
       "  </thead>\n",
       "  <tbody>\n",
       "    <tr>\n",
       "      <th>0</th>\n",
       "      <td> 0</td>\n",
       "      <td> Go until jurong point, crazy.. Available only ...</td>\n",
       "    </tr>\n",
       "    <tr>\n",
       "      <th>1</th>\n",
       "      <td> 0</td>\n",
       "      <td>                     Ok lar... Joking wif u oni...</td>\n",
       "    </tr>\n",
       "    <tr>\n",
       "      <th>2</th>\n",
       "      <td> 1</td>\n",
       "      <td> Free entry in 2 a wkly comp to win FA Cup fina...</td>\n",
       "    </tr>\n",
       "    <tr>\n",
       "      <th>3</th>\n",
       "      <td> 0</td>\n",
       "      <td> U dun say so early hor... U c already then say...</td>\n",
       "    </tr>\n",
       "    <tr>\n",
       "      <th>4</th>\n",
       "      <td> 0</td>\n",
       "      <td> Nah I don't think he goes to usf, he lives aro...</td>\n",
       "    </tr>\n",
       "  </tbody>\n",
       "</table>\n",
       "<p>5 rows × 2 columns</p>\n",
       "</div>"
      ],
      "text/plain": [
       "   is_spam                                                msg\n",
       "0        0  Go until jurong point, crazy.. Available only ...\n",
       "1        0                      Ok lar... Joking wif u oni...\n",
       "2        1  Free entry in 2 a wkly comp to win FA Cup fina...\n",
       "3        0  U dun say so early hor... U c already then say...\n",
       "4        0  Nah I don't think he goes to usf, he lives aro...\n",
       "\n",
       "[5 rows x 2 columns]"
      ]
     },
     "execution_count": 5,
     "metadata": {},
     "output_type": "execute_result"
    }
   ],
   "source": [
    "data.head()"
   ]
  },
  {
   "cell_type": "code",
   "execution_count": 6,
   "metadata": {
    "collapsed": false,
    "deletable": true,
    "editable": true
   },
   "outputs": [
    {
     "name": "stdout",
     "output_type": "stream",
     "text": [
      "0.01 \t0.783702308103 0.0506152668394\n",
      "0.1 \t0.904201830786 0.022523808587\n",
      "0.5 \t0.92667510292 0.0202082258722\n",
      "1 \t0.932640298361 0.0195638214575\n",
      "5 \t0.939999527925 0.0176300090449\n",
      "10 \t0.938478680146 0.018614781767\n",
      "100 \t0.939771313827 0.0184975476903\n",
      "200 \t0.939090285288 0.0187862153269\n",
      "500 \t0.939771313827 0.0184975476903\n",
      "1000 \t0.940431217304 0.0185068633068\n",
      "10000 \t0.939763925051 0.0190714694705\n",
      "15000 \t0.940462582893 0.0201185268017\n",
      "20000 \t0.940462582893 0.0201185268017\n",
      "100000 \t0.943449680811 0.0197759361751\n"
     ]
    }
   ],
   "source": [
    "ans1, c1, X = get_best_score(CountVectorizer)"
   ]
  },
  {
   "cell_type": "code",
   "execution_count": 7,
   "metadata": {
    "collapsed": false,
    "deletable": true,
    "editable": true
   },
   "outputs": [
    {
     "name": "stdout",
     "output_type": "stream",
     "text": [
      "Answer 1: \n",
      "0.943449680811\n"
     ]
    }
   ],
   "source": [
    "print \"Answer 1: \"\n",
    "print ans1"
   ]
  },
  {
   "cell_type": "code",
   "execution_count": 8,
   "metadata": {
    "collapsed": false,
    "deletable": true,
    "editable": true
   },
   "outputs": [
    {
     "name": "stdout",
     "output_type": "stream",
     "text": [
      "Answer 2: \n",
      "1 1 0 0 0\n"
     ]
    }
   ],
   "source": [
    "cls = LogisticRegression(C=c1).fit(X, data.is_spam)\n",
    "\n",
    "samples = [\"FreeMsg: Txt: CALL to No: 86888 & claim your reward of 3 hours talk time to use from your phone now! Subscribe6GB\",\n",
    "            \"FreeMsg: Txt: claim your reward of 3 hours talk time\",\n",
    "            \"Have you visited the last lecture on physics?\",\n",
    "            \"Have you visited the last lecture on physics? Just buy this book and you will have all materials! Only 99$\",\n",
    "            \"Only 99$\"]\n",
    "\n",
    "vectorizer = CountVectorizer()\n",
    "X = vectorizer.fit_transform(data.msg)\n",
    "sample = vectorizer.transform(samples)\n",
    "res = cls.predict(sample)\n",
    "print \"Answer 2: \"\n",
    "print \" \".join([str(i) for i in res])\n",
    "# print cls.predict_proba(sample)"
   ]
  },
  {
   "cell_type": "code",
   "execution_count": 9,
   "metadata": {
    "collapsed": false,
    "deletable": true,
    "editable": true
   },
   "outputs": [
    {
     "name": "stderr",
     "output_type": "stream",
     "text": [
      "/usr/local/lib/python2.7/dist-packages/sklearn/metrics/classification.py:1113: UndefinedMetricWarning: F-score is ill-defined and being set to 0.0 due to no predicted samples.\n",
      "  'precision', 'predicted', average, warn_for)\n"
     ]
    }
   ],
   "source": [
    "scores1 = []\n",
    "\n",
    "scores1.append(get_best_score(CountVectorizer, (2, 2), False))\n",
    "scores1.append(get_best_score(CountVectorizer, (3, 3), False))\n",
    "scores1.append(get_best_score(CountVectorizer, (1, 3), False))"
   ]
  },
  {
   "cell_type": "code",
   "execution_count": 10,
   "metadata": {
    "collapsed": false,
    "deletable": true,
    "editable": true
   },
   "outputs": [
    {
     "name": "stdout",
     "output_type": "stream",
     "text": [
      "Answer 3: \n",
      "0.88 0.81 0.93\n"
     ]
    }
   ],
   "source": [
    "print \"Answer 3: \"\n",
    "print \" \".join([\"{0:0.2f}\".format(i) for i, _, _ in scores1])"
   ]
  },
  {
   "cell_type": "code",
   "execution_count": 11,
   "metadata": {
    "collapsed": false,
    "deletable": true,
    "editable": true
   },
   "outputs": [],
   "source": [
    "scores2 = []\n",
    "cls = MultinomialNB().fit(X, data.is_spam)\n",
    "\n",
    "\n",
    "for i in [(2, 2), (3, 3), (1, 3)]:\n",
    "    vectorizer = CountVectorizer(ngram_range=i)\n",
    "    X = vectorizer.fit_transform(data.msg)\n",
    "    \n",
    "    res = cross_val_score(cls, X, data.is_spam, scoring=\"f1_macro\", cv=10)\n",
    "    \n",
    "    scores2.append(np.mean(res))"
   ]
  },
  {
   "cell_type": "code",
   "execution_count": 12,
   "metadata": {
    "collapsed": false,
    "deletable": true,
    "editable": true
   },
   "outputs": [
    {
     "name": "stdout",
     "output_type": "stream",
     "text": [
      "Answer 4: \n",
      "0.78 0.52 0.93\n"
     ]
    }
   ],
   "source": [
    "print \"Answer 4: \"\n",
    "print \" \".join([\"{0:0.2f}\".format(i) for i in scores2])"
   ]
  },
  {
   "cell_type": "code",
   "execution_count": 13,
   "metadata": {
    "collapsed": false,
    "deletable": true,
    "editable": true
   },
   "outputs": [
    {
     "name": "stdout",
     "output_type": "stream",
     "text": [
      "0.01 \t0.0 0.0\n",
      "0.1 \t0.03930371383 0.0129202999727\n",
      "0.5 \t0.761097632769 0.0306869502043\n",
      "1 \t0.852859955417 0.0238364215221\n",
      "5 \t0.917434461744 0.018158063199\n",
      "10 \t0.922353655088 0.0157037826859\n",
      "100 \t0.931374911017 0.0185229390593\n",
      "200 \t0.932865150114 0.0188244642508\n",
      "500 \t0.934365972683 0.0176972537845\n",
      "1000 \t0.934365972683 0.0176972537845\n",
      "10000 \t0.938155468008 0.0167418311994\n",
      "15000 \t0.938155468008 0.0167418311994\n",
      "20000 \t0.937495017347 0.0163457532345\n",
      "100000 \t0.937495017347 0.0163457532345\n"
     ]
    }
   ],
   "source": [
    "ans2, _, _ = get_best_score(TfidfVectorizer)"
   ]
  },
  {
   "cell_type": "code",
   "execution_count": 14,
   "metadata": {
    "collapsed": false,
    "deletable": true,
    "editable": true
   },
   "outputs": [
    {
     "name": "stdout",
     "output_type": "stream",
     "text": [
      "Answer 5: \n",
      "0.938155468008\n"
     ]
    }
   ],
   "source": [
    "print \"Answer 5: \"\n",
    "print ans2"
   ]
  },
  {
   "cell_type": "code",
   "execution_count": null,
   "metadata": {
    "collapsed": true,
    "deletable": true,
    "editable": true
   },
   "outputs": [],
   "source": []
  }
 ],
 "metadata": {
  "kernelspec": {
   "display_name": "Python 2",
   "language": "python",
   "name": "python2"
  },
  "language_info": {
   "codemirror_mode": {
    "name": "ipython",
    "version": 2
   },
   "file_extension": ".py",
   "mimetype": "text/x-python",
   "name": "python",
   "nbconvert_exporter": "python",
   "pygments_lexer": "ipython2",
   "version": "2.7.12"
  }
 },
 "nbformat": 4,
 "nbformat_minor": 2
}
