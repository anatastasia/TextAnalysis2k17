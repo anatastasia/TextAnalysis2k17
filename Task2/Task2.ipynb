{
 "cells": [
  {
   "cell_type": "code",
   "execution_count": 1,
   "metadata": {
    "collapsed": false,
    "deletable": true,
    "editable": true,
    "scrolled": false
   },
   "outputs": [],
   "source": [
    "import pandas as pd\n",
    "import numpy as np\n",
    "import nltk \n",
    "import re\n",
    "import matplotlib.pyplot as plt\n",
    "import seaborn as sns\n",
    "import random\n",
    "\n",
    "from collections import Counter\n",
    "\n",
    "from nltk.tokenize import word_tokenize\n",
    "from nltk.corpus import stopwords\n",
    "from nltk.collocations import BigramAssocMeasures, BigramCollocationFinder\n",
    "from sklearn.feature_extraction.text import TfidfVectorizer\n",
    "from sklearn.cluster.hierarchical import AgglomerativeClustering\n",
    "from sklearn.cluster import KMeans\n",
    "from sklearn.decomposition import TruncatedSVD\n",
    "\n",
    "%matplotlib inline"
   ]
  },
  {
   "cell_type": "code",
   "execution_count": 2,
   "metadata": {
    "collapsed": false,
    "deletable": true,
    "editable": true,
    "scrolled": false
   },
   "outputs": [],
   "source": [
    "data = pd.read_csv(\"emails/Emails.csv\")"
   ]
  },
  {
   "cell_type": "code",
   "execution_count": 3,
   "metadata": {
    "collapsed": false,
    "deletable": true,
    "editable": true,
    "scrolled": false
   },
   "outputs": [
    {
     "data": {
      "text/html": [
       "<div>\n",
       "<table border=\"1\" class=\"dataframe\">\n",
       "  <thead>\n",
       "    <tr style=\"text-align: right;\">\n",
       "      <th></th>\n",
       "      <th>Id</th>\n",
       "      <th>DocNumber</th>\n",
       "      <th>MetadataSubject</th>\n",
       "      <th>MetadataTo</th>\n",
       "      <th>MetadataFrom</th>\n",
       "      <th>SenderPersonId</th>\n",
       "      <th>MetadataDateSent</th>\n",
       "      <th>MetadataDateReleased</th>\n",
       "      <th>MetadataPdfLink</th>\n",
       "      <th>MetadataCaseNumber</th>\n",
       "      <th>...</th>\n",
       "      <th>ExtractedTo</th>\n",
       "      <th>ExtractedFrom</th>\n",
       "      <th>ExtractedCc</th>\n",
       "      <th>ExtractedDateSent</th>\n",
       "      <th>ExtractedCaseNumber</th>\n",
       "      <th>ExtractedDocNumber</th>\n",
       "      <th>ExtractedDateReleased</th>\n",
       "      <th>ExtractedReleaseInPartOrFull</th>\n",
       "      <th>ExtractedBodyText</th>\n",
       "      <th>RawText</th>\n",
       "    </tr>\n",
       "  </thead>\n",
       "  <tbody>\n",
       "    <tr>\n",
       "      <th>0</th>\n",
       "      <td>1</td>\n",
       "      <td>C05739545</td>\n",
       "      <td>WOW</td>\n",
       "      <td>H</td>\n",
       "      <td>Sullivan, Jacob J</td>\n",
       "      <td>87.0</td>\n",
       "      <td>2012-09-12T04:00:00+00:00</td>\n",
       "      <td>2015-05-22T04:00:00+00:00</td>\n",
       "      <td>DOCUMENTS/HRC_Email_1_296/HRCH2/DOC_0C05739545...</td>\n",
       "      <td>F-2015-04841</td>\n",
       "      <td>...</td>\n",
       "      <td>NaN</td>\n",
       "      <td>Sullivan, Jacob J &lt;Sullivan11@state.gov&gt;</td>\n",
       "      <td>NaN</td>\n",
       "      <td>Wednesday, September 12, 2012 10:16 AM</td>\n",
       "      <td>F-2015-04841</td>\n",
       "      <td>C05739545</td>\n",
       "      <td>05/13/2015</td>\n",
       "      <td>RELEASE IN FULL</td>\n",
       "      <td>NaN</td>\n",
       "      <td>UNCLASSIFIED\\nU.S. Department of State\\nCase N...</td>\n",
       "    </tr>\n",
       "    <tr>\n",
       "      <th>1</th>\n",
       "      <td>2</td>\n",
       "      <td>C05739546</td>\n",
       "      <td>H: LATEST: HOW SYRIA IS AIDING QADDAFI AND MOR...</td>\n",
       "      <td>H</td>\n",
       "      <td>NaN</td>\n",
       "      <td>NaN</td>\n",
       "      <td>2011-03-03T05:00:00+00:00</td>\n",
       "      <td>2015-05-22T04:00:00+00:00</td>\n",
       "      <td>DOCUMENTS/HRC_Email_1_296/HRCH1/DOC_0C05739546...</td>\n",
       "      <td>F-2015-04841</td>\n",
       "      <td>...</td>\n",
       "      <td>NaN</td>\n",
       "      <td>NaN</td>\n",
       "      <td>NaN</td>\n",
       "      <td>NaN</td>\n",
       "      <td>F-2015-04841</td>\n",
       "      <td>C05739546</td>\n",
       "      <td>05/13/2015</td>\n",
       "      <td>RELEASE IN PART</td>\n",
       "      <td>B6\\nThursday, March 3, 2011 9:45 PM\\nH: Latest...</td>\n",
       "      <td>UNCLASSIFIED\\nU.S. Department of State\\nCase N...</td>\n",
       "    </tr>\n",
       "    <tr>\n",
       "      <th>2</th>\n",
       "      <td>3</td>\n",
       "      <td>C05739547</td>\n",
       "      <td>CHRIS STEVENS</td>\n",
       "      <td>;H</td>\n",
       "      <td>Mills, Cheryl D</td>\n",
       "      <td>32.0</td>\n",
       "      <td>2012-09-12T04:00:00+00:00</td>\n",
       "      <td>2015-05-22T04:00:00+00:00</td>\n",
       "      <td>DOCUMENTS/HRC_Email_1_296/HRCH2/DOC_0C05739547...</td>\n",
       "      <td>F-2015-04841</td>\n",
       "      <td>...</td>\n",
       "      <td>B6</td>\n",
       "      <td>Mills, Cheryl D &lt;MillsCD@state.gov&gt;</td>\n",
       "      <td>Abedin, Huma</td>\n",
       "      <td>Wednesday, September 12, 2012 11:52 AM</td>\n",
       "      <td>F-2015-04841</td>\n",
       "      <td>C05739547</td>\n",
       "      <td>05/14/2015</td>\n",
       "      <td>RELEASE IN PART</td>\n",
       "      <td>Thx</td>\n",
       "      <td>UNCLASSIFIED\\nU.S. Department of State\\nCase N...</td>\n",
       "    </tr>\n",
       "    <tr>\n",
       "      <th>3</th>\n",
       "      <td>4</td>\n",
       "      <td>C05739550</td>\n",
       "      <td>CAIRO CONDEMNATION - FINAL</td>\n",
       "      <td>H</td>\n",
       "      <td>Mills, Cheryl D</td>\n",
       "      <td>32.0</td>\n",
       "      <td>2012-09-12T04:00:00+00:00</td>\n",
       "      <td>2015-05-22T04:00:00+00:00</td>\n",
       "      <td>DOCUMENTS/HRC_Email_1_296/HRCH2/DOC_0C05739550...</td>\n",
       "      <td>F-2015-04841</td>\n",
       "      <td>...</td>\n",
       "      <td>NaN</td>\n",
       "      <td>Mills, Cheryl D &lt;MillsCD@state.gov&gt;</td>\n",
       "      <td>Mitchell, Andrew B</td>\n",
       "      <td>Wednesday, September 12,2012 12:44 PM</td>\n",
       "      <td>F-2015-04841</td>\n",
       "      <td>C05739550</td>\n",
       "      <td>05/13/2015</td>\n",
       "      <td>RELEASE IN PART</td>\n",
       "      <td>NaN</td>\n",
       "      <td>UNCLASSIFIED\\nU.S. Department of State\\nCase N...</td>\n",
       "    </tr>\n",
       "    <tr>\n",
       "      <th>4</th>\n",
       "      <td>5</td>\n",
       "      <td>C05739554</td>\n",
       "      <td>H: LATEST: HOW SYRIA IS AIDING QADDAFI AND MOR...</td>\n",
       "      <td>Abedin, Huma</td>\n",
       "      <td>H</td>\n",
       "      <td>80.0</td>\n",
       "      <td>2011-03-11T05:00:00+00:00</td>\n",
       "      <td>2015-05-22T04:00:00+00:00</td>\n",
       "      <td>DOCUMENTS/HRC_Email_1_296/HRCH1/DOC_0C05739554...</td>\n",
       "      <td>F-2015-04841</td>\n",
       "      <td>...</td>\n",
       "      <td>NaN</td>\n",
       "      <td>NaN</td>\n",
       "      <td>NaN</td>\n",
       "      <td>NaN</td>\n",
       "      <td>F-2015-04841</td>\n",
       "      <td>C05739554</td>\n",
       "      <td>05/13/2015</td>\n",
       "      <td>RELEASE IN PART</td>\n",
       "      <td>H &lt;hrod17@clintonemail.com&gt;\\nFriday, March 11,...</td>\n",
       "      <td>B6\\nUNCLASSIFIED\\nU.S. Department of State\\nCa...</td>\n",
       "    </tr>\n",
       "  </tbody>\n",
       "</table>\n",
       "<p>5 rows × 22 columns</p>\n",
       "</div>"
      ],
      "text/plain": [
       "   Id  DocNumber                                    MetadataSubject  \\\n",
       "0   1  C05739545                                                WOW   \n",
       "1   2  C05739546  H: LATEST: HOW SYRIA IS AIDING QADDAFI AND MOR...   \n",
       "2   3  C05739547                                      CHRIS STEVENS   \n",
       "3   4  C05739550                         CAIRO CONDEMNATION - FINAL   \n",
       "4   5  C05739554  H: LATEST: HOW SYRIA IS AIDING QADDAFI AND MOR...   \n",
       "\n",
       "     MetadataTo       MetadataFrom  SenderPersonId           MetadataDateSent  \\\n",
       "0             H  Sullivan, Jacob J            87.0  2012-09-12T04:00:00+00:00   \n",
       "1             H                NaN             NaN  2011-03-03T05:00:00+00:00   \n",
       "2            ;H    Mills, Cheryl D            32.0  2012-09-12T04:00:00+00:00   \n",
       "3             H    Mills, Cheryl D            32.0  2012-09-12T04:00:00+00:00   \n",
       "4  Abedin, Huma                  H            80.0  2011-03-11T05:00:00+00:00   \n",
       "\n",
       "        MetadataDateReleased  \\\n",
       "0  2015-05-22T04:00:00+00:00   \n",
       "1  2015-05-22T04:00:00+00:00   \n",
       "2  2015-05-22T04:00:00+00:00   \n",
       "3  2015-05-22T04:00:00+00:00   \n",
       "4  2015-05-22T04:00:00+00:00   \n",
       "\n",
       "                                     MetadataPdfLink MetadataCaseNumber  \\\n",
       "0  DOCUMENTS/HRC_Email_1_296/HRCH2/DOC_0C05739545...       F-2015-04841   \n",
       "1  DOCUMENTS/HRC_Email_1_296/HRCH1/DOC_0C05739546...       F-2015-04841   \n",
       "2  DOCUMENTS/HRC_Email_1_296/HRCH2/DOC_0C05739547...       F-2015-04841   \n",
       "3  DOCUMENTS/HRC_Email_1_296/HRCH2/DOC_0C05739550...       F-2015-04841   \n",
       "4  DOCUMENTS/HRC_Email_1_296/HRCH1/DOC_0C05739554...       F-2015-04841   \n",
       "\n",
       "                         ...                         ExtractedTo  \\\n",
       "0                        ...                                 NaN   \n",
       "1                        ...                                 NaN   \n",
       "2                        ...                                  B6   \n",
       "3                        ...                                 NaN   \n",
       "4                        ...                                 NaN   \n",
       "\n",
       "                              ExtractedFrom         ExtractedCc  \\\n",
       "0  Sullivan, Jacob J <Sullivan11@state.gov>                 NaN   \n",
       "1                                       NaN                 NaN   \n",
       "2       Mills, Cheryl D <MillsCD@state.gov>        Abedin, Huma   \n",
       "3       Mills, Cheryl D <MillsCD@state.gov>  Mitchell, Andrew B   \n",
       "4                                       NaN                 NaN   \n",
       "\n",
       "                        ExtractedDateSent ExtractedCaseNumber  \\\n",
       "0  Wednesday, September 12, 2012 10:16 AM        F-2015-04841   \n",
       "1                                     NaN        F-2015-04841   \n",
       "2  Wednesday, September 12, 2012 11:52 AM        F-2015-04841   \n",
       "3   Wednesday, September 12,2012 12:44 PM        F-2015-04841   \n",
       "4                                     NaN        F-2015-04841   \n",
       "\n",
       "  ExtractedDocNumber ExtractedDateReleased ExtractedReleaseInPartOrFull  \\\n",
       "0          C05739545            05/13/2015              RELEASE IN FULL   \n",
       "1          C05739546            05/13/2015              RELEASE IN PART   \n",
       "2          C05739547            05/14/2015              RELEASE IN PART   \n",
       "3          C05739550            05/13/2015              RELEASE IN PART   \n",
       "4          C05739554            05/13/2015              RELEASE IN PART   \n",
       "\n",
       "                                   ExtractedBodyText  \\\n",
       "0                                                NaN   \n",
       "1  B6\\nThursday, March 3, 2011 9:45 PM\\nH: Latest...   \n",
       "2                                                Thx   \n",
       "3                                                NaN   \n",
       "4  H <hrod17@clintonemail.com>\\nFriday, March 11,...   \n",
       "\n",
       "                                             RawText  \n",
       "0  UNCLASSIFIED\\nU.S. Department of State\\nCase N...  \n",
       "1  UNCLASSIFIED\\nU.S. Department of State\\nCase N...  \n",
       "2  UNCLASSIFIED\\nU.S. Department of State\\nCase N...  \n",
       "3  UNCLASSIFIED\\nU.S. Department of State\\nCase N...  \n",
       "4  B6\\nUNCLASSIFIED\\nU.S. Department of State\\nCa...  \n",
       "\n",
       "[5 rows x 22 columns]"
      ]
     },
     "execution_count": 3,
     "metadata": {},
     "output_type": "execute_result"
    }
   ],
   "source": [
    "data.head()"
   ]
  },
  {
   "cell_type": "markdown",
   "metadata": {
    "deletable": true,
    "editable": true
   },
   "source": [
    "## Изучение датасета\n",
    "Сразу бросается в глаза количество колонок с метаданными, которые нам не очень интересны. Также, поле RawText, пусть и содержит тексты писем, является менее полезным, чем ExtractedBodyText -- его не нужно так тщательно очищать. Тема письма, вероятно, тоже поможет при кластеризации.\n",
    "\n",
    "Поэтому будем работать с двумя полями: Emails.ExtractedBodyText и Emails.ExtractedSubject"
   ]
  },
  {
   "cell_type": "code",
   "execution_count": 4,
   "metadata": {
    "collapsed": false,
    "deletable": true,
    "editable": true,
    "scrolled": false
   },
   "outputs": [
    {
     "data": {
      "text/html": [
       "<div>\n",
       "<table border=\"1\" class=\"dataframe\">\n",
       "  <thead>\n",
       "    <tr style=\"text-align: right;\">\n",
       "      <th></th>\n",
       "      <th>Subject</th>\n",
       "      <th>Text</th>\n",
       "    </tr>\n",
       "  </thead>\n",
       "  <tbody>\n",
       "    <tr>\n",
       "      <th>2</th>\n",
       "      <td>Re: Chris Stevens</td>\n",
       "      <td>Thx</td>\n",
       "    </tr>\n",
       "    <tr>\n",
       "      <th>5</th>\n",
       "      <td>Meet The Right Wing Extremist Behind Anti-Musl...</td>\n",
       "      <td>Pis print.\\n-•-...-^\\nH &lt; hrod17@clintonernail...</td>\n",
       "    </tr>\n",
       "    <tr>\n",
       "      <th>8</th>\n",
       "      <td>FVV: Secretary's remarks</td>\n",
       "      <td>FYI</td>\n",
       "    </tr>\n",
       "    <tr>\n",
       "      <th>9</th>\n",
       "      <td>more on Libya</td>\n",
       "      <td>B6\\nWednesday, September 12, 2012 6:16 PM\\nFwd...</td>\n",
       "    </tr>\n",
       "    <tr>\n",
       "      <th>10</th>\n",
       "      <td>AbZ and Hb3 on Libya and West Bank/Gaza</td>\n",
       "      <td>Fyi\\nB6\\n— —</td>\n",
       "    </tr>\n",
       "  </tbody>\n",
       "</table>\n",
       "</div>"
      ],
      "text/plain": [
       "                                              Subject  \\\n",
       "2                                   Re: Chris Stevens   \n",
       "5   Meet The Right Wing Extremist Behind Anti-Musl...   \n",
       "8                            FVV: Secretary's remarks   \n",
       "9                                       more on Libya   \n",
       "10            AbZ and Hb3 on Libya and West Bank/Gaza   \n",
       "\n",
       "                                                 Text  \n",
       "2                                                 Thx  \n",
       "5   Pis print.\\n-•-...-^\\nH < hrod17@clintonernail...  \n",
       "8                                                 FYI  \n",
       "9   B6\\nWednesday, September 12, 2012 6:16 PM\\nFwd...  \n",
       "10                                       Fyi\\nB6\\n— —  "
      ]
     },
     "execution_count": 4,
     "metadata": {},
     "output_type": "execute_result"
    }
   ],
   "source": [
    "data = data[[\"ExtractedSubject\", \"ExtractedBodyText\"]]\n",
    "data = data.rename(columns={\"ExtractedSubject\": \"Subject\", \"ExtractedBodyText\": \"Text\"})\n",
    "data = data.dropna(how='any', subset=[\"Text\", \"Subject\"])\n",
    "data.head()"
   ]
  },
  {
   "cell_type": "code",
   "execution_count": 5,
   "metadata": {
    "collapsed": false,
    "deletable": true,
    "editable": true,
    "scrolled": false
   },
   "outputs": [],
   "source": [
    "plaintext = zip(data[\"Subject\"].tolist(), data[\"Text\"].tolist())"
   ]
  },
  {
   "cell_type": "code",
   "execution_count": 6,
   "metadata": {
    "collapsed": false,
    "deletable": true,
    "editable": true,
    "scrolled": false
   },
   "outputs": [
    {
     "data": {
      "text/plain": [
       "[' wash post: hillary clinton tries to calm at i-u s iment as protesters storm embassy in yemen',\n",
       " ' quick summary of potus calls to presidents of libya and egypt pis print. fyi',\n",
       " ' condolences from pm netanyahu fyi',\n",
       " ' situation report no 1 09/14/1 (sbu) i\\'m giving you credit for inspiring the \"peaceful\" protests.',\n",
       " 'you do great work - thanks for making our heros have the homecoming they deserved.']"
      ]
     },
     "execution_count": 6,
     "metadata": {},
     "output_type": "execute_result"
    }
   ],
   "source": [
    "to_delete = [\"b6\", \"b5\", \"--\", \"re:\", \"h:\", \"case no.\", \"doc no.\", \"date:\", \"state dept\", \"prom:\", \"sent\", \n",
    "             \"to:\", \"cc:\", \"fw:\", \"fvv:\", \"from:\", \"for:\", \"tel:\", \"fax:\", \"fwd:\", \"b1\", \"b2\", \"b3\", \"b4\", \"1.4(\", \n",
    "             \"#1\", \"1#\", \"release in\", \"u.s. department of state\", \"subject to agreement\", \n",
    "             \"ent of state\", \"state-\", \"attachment=\", \"january\", \"february\", \"march\", \"april\", \"may\", \n",
    "             \"june\", \"july\", \"august\", \"september\", \"october\", \"december\", \"http\", \"delivered\"]\n",
    "\n",
    "new_text = []\n",
    "for text in plaintext:\n",
    "    key = text[0].lower()\n",
    "    for i in to_delete:\n",
    "        while i in key:\n",
    "            key = key.replace(i, \"\")\n",
    "            \n",
    "    if key:\n",
    "        new_text.append([key])\n",
    "    else:\n",
    "        new_text.append([])\n",
    "    \n",
    "    for row in text[1].split(\"\\n\"):\n",
    "        new_line = row.lower()\n",
    "        for i in to_delete:\n",
    "            if i in new_line:\n",
    "                new_line = \"\"\n",
    "                break\n",
    "        \n",
    "        if new_line:\n",
    "            new_text[-1].append(new_line)\n",
    "    \n",
    "    new_text[-1] = \" \".join(new_text[-1])\n",
    "\n",
    "new_text[20:25]"
   ]
  },
  {
   "cell_type": "code",
   "execution_count": 7,
   "metadata": {
    "collapsed": false,
    "deletable": true,
    "editable": true,
    "scrolled": false
   },
   "outputs": [
    {
     "data": {
      "text/plain": [
       "[['wash',\n",
       "  'post',\n",
       "  'hillary',\n",
       "  'clinton',\n",
       "  'tries',\n",
       "  'calm',\n",
       "  'iment',\n",
       "  'protesters',\n",
       "  'storm',\n",
       "  'embassy',\n",
       "  'yemen'],\n",
       " ['quick',\n",
       "  'summary',\n",
       "  'potus',\n",
       "  'calls',\n",
       "  'presidents',\n",
       "  'libya',\n",
       "  'egypt',\n",
       "  'pis',\n",
       "  'print'],\n",
       " ['condolences', 'pm', 'netanyahu'],\n",
       " ['situation',\n",
       "  'report',\n",
       "  '1',\n",
       "  'sbu',\n",
       "  'giving',\n",
       "  'credit',\n",
       "  'inspiring',\n",
       "  'peaceful',\n",
       "  'protests'],\n",
       " ['great', 'work', 'thanks', 'making', 'heros', 'homecoming', 'deserved']]"
      ]
     },
     "execution_count": 7,
     "metadata": {},
     "output_type": "execute_result"
    }
   ],
   "source": [
    "good_pattern = re.compile(\"[a-z0-9]\")\n",
    "bad_words = stopwords.words(\"english\") + [\"fyi\", \"pls\", \"ok\", \"thx\", \"yes\", \"no\"]\n",
    "good_text = []\n",
    "for line in new_text:\n",
    "    tokens = word_tokenize(line)\n",
    "    good_tokens = [i for i in tokens if i not in bad_words and good_pattern.match(i) and i.isalnum()]\n",
    "    \n",
    "    if good_tokens:\n",
    "        good_text.append(good_tokens)\n",
    "    \n",
    "good_text[20:25]"
   ]
  },
  {
   "cell_type": "code",
   "execution_count": 8,
   "metadata": {
    "collapsed": false,
    "deletable": true,
    "editable": true,
    "scrolled": false
   },
   "outputs": [
    {
     "name": "stdout",
     "output_type": "stream",
     "text": [
      "('secretary office', 367)\n",
      "('state department', 334)\n",
      "('united states', 318)\n",
      "('white house', 276)\n",
      "('pm secretary', 216)\n"
     ]
    }
   ],
   "source": [
    "def find_bigrams(text, n):\n",
    "    ngrams = Counter()\n",
    "    for tokens in text:\n",
    "        for pair in [(tokens[i], tokens[i + 1]) for i in range(len(tokens) - 1)]:\n",
    "                ngrams[str(pair[0]) + \" \" + str(pair[1])] += 1\n",
    "\n",
    "    return ngrams.most_common(n)\n",
    "    \n",
    "print(\"\\n\".join(map(str, find_bigrams(good_text, 5))))"
   ]
  },
  {
   "cell_type": "markdown",
   "metadata": {
    "collapsed": true,
    "deletable": true,
    "editable": true
   },
   "source": [
    "Кажется, топ-5 биграмм не очень информативны, поскольку в них нет новой для нас информации: мы и так знаем, что Хиллари Клинтон была US Secretary of State и сидела в Белом Доме"
   ]
  },
  {
   "cell_type": "code",
   "execution_count": 9,
   "metadata": {
    "collapsed": false,
    "deletable": true,
    "editable": true,
    "scrolled": false
   },
   "outputs": [
    {
     "data": {
      "text/plain": [
       "[('630pm', 'shaw'),\n",
       " ('buenos', 'aires'),\n",
       " ('dalai', 'lama'),\n",
       " ('irwin', 'redlener'),\n",
       " ('jassim', 'jabr'),\n",
       " ('kin', 'notifications'),\n",
       " ('kuan', 'yew'),\n",
       " ('noor', 'ramsey'),\n",
       " ('phd', 'purdue'),\n",
       " ('tick', 'tock')]"
      ]
     },
     "execution_count": 9,
     "metadata": {},
     "output_type": "execute_result"
    }
   ],
   "source": [
    "def find_collocs(text, n, freq):\n",
    "    bigram_measures = nltk.collocations.BigramAssocMeasures()\n",
    "    all_words = []\n",
    "    for line in text:\n",
    "        for token in line:\n",
    "            all_words.append(token)\n",
    "    finder = BigramCollocationFinder.from_words(all_words)\n",
    "    finder.apply_freq_filter(freq)\n",
    "    return finder.nbest(bigram_measures.pmi, n)\n",
    "\n",
    "find_collocs(good_text, 10, 3)"
   ]
  },
  {
   "cell_type": "markdown",
   "metadata": {
    "deletable": true,
    "editable": true
   },
   "source": [
    "Коллокации уже повеселее, они указывают на места и на конкретных личностей.\n",
    " * 630 (at) shaw (campus) -- видимо, относит к выступлению перед выпускниками в школе Shaw.\n",
    " * Буэнос-Айрес, Далай Лама -- ясно-понятно.\n",
    " * Ирвин Рэдленер -- педиатр и спикер, основатель Children's Health Fund.\n",
    " * Хамад бен Джасим бен Джабер Аль Тани -- бывший премьер-министр Катара.\n",
    " * (Next of) kin notification -- \"похоронка\", божечки. Упоминалась в контексте скандала в Бенгази, после убийства 4 американских граждан. Ходили слухи, что миссис Клинтон знала о предстоящей атаке, но не предупредила.\n",
    " * Ли Куан Ю -- тот самый президент Сингапура.\n",
    " * Нур и Рамси -- двое похищенных приёмной матерью детей, которых отвезли в Египет, и, кажется, вернули отцу. Это было большим скандалом в 2009.\n",
    " * PhD Purdue -- степень доктора наук в Университете Пердью.\n",
    " * (Libya) Tick Tock -- самая интересная коллокация. Письмо, которое якобы доказывает причастность Хиллари к перевороту и войне в Ливии, хронология всех её участий в заседаниях НАТО. Легко гуглится, сложно пересказывается.\n",
    " \n",
    "Такая простая обработка, такие любопытные результаты! Но перейдём к кластеризации."
   ]
  },
  {
   "cell_type": "markdown",
   "metadata": {},
   "source": [
    "### Поиск хорошей кластеризации\n",
    "Посмотрю на 1/5 датасета, что в нем происходит, как его лучше визуализировать и как подобрать количество кластеров.\n",
    "Качество определяю по графику после сжатия размерности, на глаз.\n",
    "\n",
    "Результат представлен для бОльшей части датасета, так как весь не влезает в память, причем результаты от 2000 записей и больше получаются схожими."
   ]
  },
  {
   "cell_type": "code",
   "execution_count": 10,
   "metadata": {
    "collapsed": false,
    "deletable": true,
    "editable": true,
    "scrolled": false
   },
   "outputs": [],
   "source": [
    "vectorizer = TfidfVectorizer(ngram_range=(1, 2))\n",
    "good_text = random.sample(good_text, 3500)\n",
    "sentences = [\" \".join(i) for i in good_text]\n",
    "X = vectorizer.fit_transform(sentences)"
   ]
  },
  {
   "cell_type": "code",
   "execution_count": 19,
   "metadata": {
    "collapsed": false,
    "scrolled": false
   },
   "outputs": [],
   "source": [
    "N = 6\n",
    "#model = AgglomerativeClustering(n_clusters=N, affinity='euclidean')\n",
    "model = KMeans(n_clusters=N)\n",
    "preds = model.fit_predict(X.toarray())"
   ]
  },
  {
   "cell_type": "markdown",
   "metadata": {},
   "source": [
    "### Визуализация\n",
    "Мне понравились коллокации на большом тексте, буду выводить их для всех кластеров.\n",
    "Ну и биграммы тоже, для большей читаемости."
   ]
  },
  {
   "cell_type": "code",
   "execution_count": 20,
   "metadata": {
    "collapsed": false,
    "scrolled": false
   },
   "outputs": [
    {
     "name": "stdout",
     "output_type": "stream",
     "text": [
      "===== Cluster 0, len 2452 =====\n",
      "1775 massachusetts; adoptions migrants; cingular xpress; definitive sourcing; drl definitive; hate crimes; hilda solis; noor ramsey; slipped disc; stonebridge 1101\n",
      "---\n",
      "secretary state; let know; assistant secretary; lona valmoro; special assistant\n",
      "===== Cluster 1, len 405 =====\n",
      "breeding genetics; carnegie endowment; connects labs; fertilizer irrigation; judea samaria; kin notifications; phd purdue; plant breeding; salt lake; striga weed\n",
      "---\n",
      "united states; 1 1; white house; tea party; 2 2\n",
      "===== Cluster 2, len 392 =====\n",
      "nora toiv; harry reid; kurt campbell; dennis ross; dep sec; eik pushed; fmr dep; hungarian prime; joanne laszczych; lona valmoro\n",
      "---\n",
      "call list; call sheet; thru ops; let know; please call\n",
      "===== Cluster 3, len 78 =====\n",
      "budget testimony; h hrod17; libya sid; sid pis; oscar print; pis print; huma print; print hrc; print h; print print\n",
      "---\n",
      "pis print; print hrc; sid pis; h hrod17; budget testimony\n",
      "===== Cluster 4, len 48 =====\n",
      "administers oath; canadian mission; cardinal stadium; catherine ashton; guido westerwelle; jassim jabr; mahmoud abbas; susan rice; western hemisphere; acheson auditorium\n",
      "---\n",
      "secretary office; state department; pm secretary; office pm; pm arrive\n",
      "===== Cluster 5, len 125 =====\n",
      "jacob j; sullivan jacob; prayer breakfast; foreign policy; internet freedom; revisions internet; later today; thanks much; great idea; cgi speech\n",
      "---\n",
      "internet freedom; freedom speech; doha speech; revisions internet; cfr speech\n"
     ]
    }
   ],
   "source": [
    "clusters = [[] for i in range(N)]\n",
    "\n",
    "for pos, i in list(enumerate(preds)):\n",
    "    clusters[i].append(good_text[pos])\n",
    "\n",
    "for pos, i in list(enumerate(clusters)):\n",
    "    print(\"===== Cluster {}, len {} =====\".format(pos, len(i)))\n",
    "    collocs = find_collocs(i, 10, 3)\n",
    "    bigrams = find_bigrams(i, 5)\n",
    "    print(\"; \".join([j[0] + \" \" + j[1] for j in collocs]))\n",
    "    print(\"---\")\n",
    "    print(\"; \".join([j[0] for j in bigrams]))"
   ]
  },
  {
   "cell_type": "code",
   "execution_count": 21,
   "metadata": {
    "collapsed": false,
    "scrolled": false
   },
   "outputs": [],
   "source": [
    "N_comp = 4\n",
    "svd = TruncatedSVD(n_components=4)\n",
    "res = svd.fit_transform(X.toarray())"
   ]
  },
  {
   "cell_type": "code",
   "execution_count": 22,
   "metadata": {
    "collapsed": false,
    "scrolled": false
   },
   "outputs": [
    {
     "data": {
      "text/plain": [
       "<seaborn.axisgrid.PairGrid at 0x7fcbdbe59390>"
      ]
     },
     "execution_count": 22,
     "metadata": {},
     "output_type": "execute_result"
    },
    {
     "data": {
      "image/png": "[encoded data removed]",
      "text/plain": [
       "<matplotlib.figure.Figure at 0x7fcbdbe59240>"
      ]
     },
     "metadata": {},
     "output_type": "display_data"
    }
   ],
   "source": [
    "g = pd.DataFrame(res, columns=[\"Comp {}\".format(i) for i in range(N_comp)])\n",
    "g[\"labels\"] = preds\n",
    "sns.pairplot(g, hue=\"labels\", palette=\"husl\", vars=[\"Comp {}\".format(i) for i in range(N_comp)])"
   ]
  },
  {
   "cell_type": "markdown",
   "metadata": {},
   "source": [
    "### Заключение\n",
    "Несмотря на то, что алгоритмам кластеризации не удалось визуально разделить графики (казалось бы, можно увидеть радиальные линии и \"сердцевинки\"), семантически кластеры имеют какой-то смысл: позвонить, выступить, проинформировать (update), несколько кластеров про разных политиков и общественных деятелей.\n",
    "\n",
    "\n",
    "Раньше были заметны кластеры-тавтологии: ok ok, sid pls; print pls, после этого я удалила слова-паразиты и сокращения. Хорошо бы ещё исправить опечатки, но велик шанс исправить что-то полезное: имя или локацию.\n",
    "\n",
    "Ассесорам я бы предложила назвать кластеры с учетом пары десятков биграмм и коллокаций. Опрошенные мной люди либо отказывались делать предсказания названий, либо не знали встретившихся имён и названий."
   ]
  },
  {
   "cell_type": "code",
   "execution_count": null,
   "metadata": {
    "collapsed": true
   },
   "outputs": [],
   "source": []
  },
  {
   "cell_type": "code",
   "execution_count": null,
   "metadata": {
    "collapsed": true
   },
   "outputs": [],
   "source": []
  }
 ],
 "metadata": {
  "kernelspec": {
   "display_name": "Python 3",
   "language": "python",
   "name": "python3"
  },
  "language_info": {
   "codemirror_mode": {
    "name": "ipython",
    "version": 3
   },
   "file_extension": ".py",
   "mimetype": "text/x-python",
   "name": "python",
   "nbconvert_exporter": "python",
   "pygments_lexer": "ipython3",
   "version": "3.4.3"
  }
 },
 "nbformat": 4,
 "nbformat_minor": 2
}
